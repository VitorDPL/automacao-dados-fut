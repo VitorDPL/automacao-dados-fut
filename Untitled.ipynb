{
 "cells": [
  {
   "cell_type": "code",
   "execution_count": 118,
   "id": "5291fe68-3ed8-472c-a581-ad2d37af59ba",
   "metadata": {},
   "outputs": [],
   "source": [
    "#!pip install pandas"
   ]
  },
  {
   "cell_type": "code",
   "execution_count": 119,
   "id": "bada831e",
   "metadata": {},
   "outputs": [],
   "source": [
    "import pandas as pd"
   ]
  },
  {
   "cell_type": "code",
   "execution_count": 120,
   "id": "5edb5d2f-cf0c-4cf0-97bb-5529e0f7cdb4",
   "metadata": {},
   "outputs": [
    {
     "data": {
      "text/html": [
       "<div>\n",
       "<style scoped>\n",
       "    .dataframe tbody tr th:only-of-type {\n",
       "        vertical-align: middle;\n",
       "    }\n",
       "\n",
       "    .dataframe tbody tr th {\n",
       "        vertical-align: top;\n",
       "    }\n",
       "\n",
       "    .dataframe thead th {\n",
       "        text-align: right;\n",
       "    }\n",
       "</style>\n",
       "<table border=\"1\" class=\"dataframe\">\n",
       "  <thead>\n",
       "    <tr style=\"text-align: right;\">\n",
       "      <th></th>\n",
       "      <th>TIME CASA</th>\n",
       "      <th>TIME FORA</th>\n",
       "      <th>GOLS CASA</th>\n",
       "      <th>GOLS FORA</th>\n",
       "      <th>CHUTES GOL CASA</th>\n",
       "      <th>CHUTES GOL FORA</th>\n",
       "      <th>FINALIZAÇÕES CASA</th>\n",
       "      <th>FINALIZAÇÕES FORA</th>\n",
       "      <th>CARTÃO AMARELO CASA</th>\n",
       "      <th>CARTÃO AMARELO FORA</th>\n",
       "      <th>...</th>\n",
       "      <th>FALTAS CASA</th>\n",
       "      <th>FALTAS FORA</th>\n",
       "      <th>POSSE BOLA CASA</th>\n",
       "      <th>POSSE BOLA FORA</th>\n",
       "      <th>ESTÁDIO</th>\n",
       "      <th>CAMPEONATO</th>\n",
       "      <th>CARTAO AMARELO CASA</th>\n",
       "      <th>CARTAO AMARELO FORA</th>\n",
       "      <th>ESTADIO</th>\n",
       "      <th>DATA</th>\n",
       "    </tr>\n",
       "  </thead>\n",
       "  <tbody>\n",
       "    <tr>\n",
       "      <th>0</th>\n",
       "      <td>Fortaleza</td>\n",
       "      <td>Fluminense</td>\n",
       "      <td>2</td>\n",
       "      <td>0</td>\n",
       "      <td>3</td>\n",
       "      <td>1</td>\n",
       "      <td>5</td>\n",
       "      <td>15</td>\n",
       "      <td>1</td>\n",
       "      <td>0</td>\n",
       "      <td>...</td>\n",
       "      <td>16</td>\n",
       "      <td>5</td>\n",
       "      <td>29.6%</td>\n",
       "      <td>70.4%</td>\n",
       "      <td>NaN</td>\n",
       "      <td>2025 Brasileiro Serie A</td>\n",
       "      <td>NaN</td>\n",
       "      <td>NaN</td>\n",
       "      <td>Castelão</td>\n",
       "      <td>29/03/2025</td>\n",
       "    </tr>\n",
       "    <tr>\n",
       "      <th>1</th>\n",
       "      <td>Cruzeiro</td>\n",
       "      <td>Mirassol</td>\n",
       "      <td>2</td>\n",
       "      <td>1</td>\n",
       "      <td>2</td>\n",
       "      <td>6</td>\n",
       "      <td>8</td>\n",
       "      <td>16</td>\n",
       "      <td>4</td>\n",
       "      <td>3</td>\n",
       "      <td>...</td>\n",
       "      <td>18</td>\n",
       "      <td>21</td>\n",
       "      <td>44.4%</td>\n",
       "      <td>55.6%</td>\n",
       "      <td>NaN</td>\n",
       "      <td>2025 Brasileiro Serie A</td>\n",
       "      <td>NaN</td>\n",
       "      <td>NaN</td>\n",
       "      <td>Estadio Mineirão</td>\n",
       "      <td>29/03/2025</td>\n",
       "    </tr>\n",
       "    <tr>\n",
       "      <th>2</th>\n",
       "      <td>São Paulo</td>\n",
       "      <td>Sport</td>\n",
       "      <td>0</td>\n",
       "      <td>0</td>\n",
       "      <td>3</td>\n",
       "      <td>1</td>\n",
       "      <td>16</td>\n",
       "      <td>8</td>\n",
       "      <td>0</td>\n",
       "      <td>2</td>\n",
       "      <td>...</td>\n",
       "      <td>17</td>\n",
       "      <td>21</td>\n",
       "      <td>64.1%</td>\n",
       "      <td>35.9%</td>\n",
       "      <td>NaN</td>\n",
       "      <td>2025 Brasileiro Serie A</td>\n",
       "      <td>NaN</td>\n",
       "      <td>NaN</td>\n",
       "      <td>MorumBIS</td>\n",
       "      <td>29/03/2025</td>\n",
       "    </tr>\n",
       "    <tr>\n",
       "      <th>3</th>\n",
       "      <td>Grêmio</td>\n",
       "      <td>Atlético-MG</td>\n",
       "      <td>2</td>\n",
       "      <td>1</td>\n",
       "      <td>5</td>\n",
       "      <td>7</td>\n",
       "      <td>12</td>\n",
       "      <td>22</td>\n",
       "      <td>4</td>\n",
       "      <td>0</td>\n",
       "      <td>...</td>\n",
       "      <td>19</td>\n",
       "      <td>5</td>\n",
       "      <td>32.3%</td>\n",
       "      <td>67.7%</td>\n",
       "      <td>NaN</td>\n",
       "      <td>2025 Brasileiro Serie A</td>\n",
       "      <td>NaN</td>\n",
       "      <td>NaN</td>\n",
       "      <td>Grêmio Arena</td>\n",
       "      <td>29/03/2025</td>\n",
       "    </tr>\n",
       "    <tr>\n",
       "      <th>4</th>\n",
       "      <td>Juventude</td>\n",
       "      <td>Vitória</td>\n",
       "      <td>2</td>\n",
       "      <td>0</td>\n",
       "      <td>4</td>\n",
       "      <td>5</td>\n",
       "      <td>9</td>\n",
       "      <td>14</td>\n",
       "      <td>3</td>\n",
       "      <td>4</td>\n",
       "      <td>...</td>\n",
       "      <td>16</td>\n",
       "      <td>16</td>\n",
       "      <td>35.9%</td>\n",
       "      <td>64.1%</td>\n",
       "      <td>NaN</td>\n",
       "      <td>2025 Brasileiro Serie A</td>\n",
       "      <td>NaN</td>\n",
       "      <td>NaN</td>\n",
       "      <td>Alfredo Jaconi</td>\n",
       "      <td>29/03/2025</td>\n",
       "    </tr>\n",
       "    <tr>\n",
       "      <th>...</th>\n",
       "      <td>...</td>\n",
       "      <td>...</td>\n",
       "      <td>...</td>\n",
       "      <td>...</td>\n",
       "      <td>...</td>\n",
       "      <td>...</td>\n",
       "      <td>...</td>\n",
       "      <td>...</td>\n",
       "      <td>...</td>\n",
       "      <td>...</td>\n",
       "      <td>...</td>\n",
       "      <td>...</td>\n",
       "      <td>...</td>\n",
       "      <td>...</td>\n",
       "      <td>...</td>\n",
       "      <td>...</td>\n",
       "      <td>...</td>\n",
       "      <td>...</td>\n",
       "      <td>...</td>\n",
       "      <td>...</td>\n",
       "      <td>...</td>\n",
       "    </tr>\n",
       "    <tr>\n",
       "      <th>88</th>\n",
       "      <td>Mushuc Runa</td>\n",
       "      <td>Palestino</td>\n",
       "      <td>3</td>\n",
       "      <td>2</td>\n",
       "      <td>6</td>\n",
       "      <td>3</td>\n",
       "      <td>20</td>\n",
       "      <td>7</td>\n",
       "      <td>3</td>\n",
       "      <td>2</td>\n",
       "      <td>...</td>\n",
       "      <td>14</td>\n",
       "      <td>11</td>\n",
       "      <td>43.6%</td>\n",
       "      <td>56.4%</td>\n",
       "      <td>NaN</td>\n",
       "      <td>2025 CONMEBOL Sudamericana, Fase de Grupos</td>\n",
       "      <td>NaN</td>\n",
       "      <td>NaN</td>\n",
       "      <td>Estadio Fernando Guerrero Guerrero</td>\n",
       "      <td>03/04/2025</td>\n",
       "    </tr>\n",
       "    <tr>\n",
       "      <th>89</th>\n",
       "      <td>Puerto Cabello</td>\n",
       "      <td>Lanús</td>\n",
       "      <td>2</td>\n",
       "      <td>2</td>\n",
       "      <td>2</td>\n",
       "      <td>8</td>\n",
       "      <td>6</td>\n",
       "      <td>15</td>\n",
       "      <td>4</td>\n",
       "      <td>3</td>\n",
       "      <td>...</td>\n",
       "      <td>14</td>\n",
       "      <td>8</td>\n",
       "      <td>52.5%</td>\n",
       "      <td>47.5%</td>\n",
       "      <td>NaN</td>\n",
       "      <td>2025 CONMEBOL Sudamericana, Fase de Grupos</td>\n",
       "      <td>NaN</td>\n",
       "      <td>NaN</td>\n",
       "      <td>Estadio Misael Delgado</td>\n",
       "      <td>03/04/2025</td>\n",
       "    </tr>\n",
       "    <tr>\n",
       "      <th>90</th>\n",
       "      <td>Cerro Largo</td>\n",
       "      <td>Def. y Jus.</td>\n",
       "      <td>0</td>\n",
       "      <td>0</td>\n",
       "      <td>2</td>\n",
       "      <td>1</td>\n",
       "      <td>10</td>\n",
       "      <td>17</td>\n",
       "      <td>1</td>\n",
       "      <td>2</td>\n",
       "      <td>...</td>\n",
       "      <td>12</td>\n",
       "      <td>15</td>\n",
       "      <td>34.8%</td>\n",
       "      <td>65.2%</td>\n",
       "      <td>NaN</td>\n",
       "      <td>2025 CONMEBOL Sudamericana, Fase de Grupos</td>\n",
       "      <td>NaN</td>\n",
       "      <td>NaN</td>\n",
       "      <td>Estadio Centenario</td>\n",
       "      <td>03/04/2025</td>\n",
       "    </tr>\n",
       "    <tr>\n",
       "      <th>91</th>\n",
       "      <td>GV San José</td>\n",
       "      <td>Unión Española</td>\n",
       "      <td>1</td>\n",
       "      <td>1</td>\n",
       "      <td>9</td>\n",
       "      <td>5</td>\n",
       "      <td>22</td>\n",
       "      <td>20</td>\n",
       "      <td>1</td>\n",
       "      <td>1</td>\n",
       "      <td>...</td>\n",
       "      <td>12</td>\n",
       "      <td>12</td>\n",
       "      <td>45.2%</td>\n",
       "      <td>54.8%</td>\n",
       "      <td>NaN</td>\n",
       "      <td>2025 CONMEBOL Sudamericana, Fase de Grupos</td>\n",
       "      <td>NaN</td>\n",
       "      <td>NaN</td>\n",
       "      <td>Estadio Hernando Siles</td>\n",
       "      <td>03/04/2025</td>\n",
       "    </tr>\n",
       "    <tr>\n",
       "      <th>92</th>\n",
       "      <td>Chelsea</td>\n",
       "      <td>Tottenham</td>\n",
       "      <td>1</td>\n",
       "      <td>0</td>\n",
       "      <td>5</td>\n",
       "      <td>2</td>\n",
       "      <td>11</td>\n",
       "      <td>8</td>\n",
       "      <td>5</td>\n",
       "      <td>5</td>\n",
       "      <td>...</td>\n",
       "      <td>7</td>\n",
       "      <td>16</td>\n",
       "      <td>50%</td>\n",
       "      <td>50%</td>\n",
       "      <td>NaN</td>\n",
       "      <td>2024-25 English Premier League</td>\n",
       "      <td>NaN</td>\n",
       "      <td>NaN</td>\n",
       "      <td>Stamford Bridge</td>\n",
       "      <td>03/04/2025</td>\n",
       "    </tr>\n",
       "  </tbody>\n",
       "</table>\n",
       "<p>93 rows × 22 columns</p>\n",
       "</div>"
      ],
      "text/plain": [
       "         TIME CASA       TIME FORA  GOLS CASA  GOLS FORA  CHUTES GOL CASA  \\\n",
       "0        Fortaleza      Fluminense          2          0                3   \n",
       "1         Cruzeiro        Mirassol          2          1                2   \n",
       "2        São Paulo           Sport          0          0                3   \n",
       "3           Grêmio     Atlético-MG          2          1                5   \n",
       "4        Juventude         Vitória          2          0                4   \n",
       "..             ...             ...        ...        ...              ...   \n",
       "88     Mushuc Runa       Palestino          3          2                6   \n",
       "89  Puerto Cabello           Lanús          2          2                2   \n",
       "90     Cerro Largo     Def. y Jus.          0          0                2   \n",
       "91     GV San José  Unión Española          1          1                9   \n",
       "92         Chelsea       Tottenham          1          0                5   \n",
       "\n",
       "    CHUTES GOL FORA  FINALIZAÇÕES CASA  FINALIZAÇÕES FORA  \\\n",
       "0                 1                  5                 15   \n",
       "1                 6                  8                 16   \n",
       "2                 1                 16                  8   \n",
       "3                 7                 12                 22   \n",
       "4                 5                  9                 14   \n",
       "..              ...                ...                ...   \n",
       "88                3                 20                  7   \n",
       "89                8                  6                 15   \n",
       "90                1                 10                 17   \n",
       "91                5                 22                 20   \n",
       "92                2                 11                  8   \n",
       "\n",
       "    CARTÃO AMARELO CASA  CARTÃO AMARELO FORA  ...  FALTAS CASA  FALTAS FORA  \\\n",
       "0                     1                    0  ...           16            5   \n",
       "1                     4                    3  ...           18           21   \n",
       "2                     0                    2  ...           17           21   \n",
       "3                     4                    0  ...           19            5   \n",
       "4                     3                    4  ...           16           16   \n",
       "..                  ...                  ...  ...          ...          ...   \n",
       "88                    3                    2  ...           14           11   \n",
       "89                    4                    3  ...           14            8   \n",
       "90                    1                    2  ...           12           15   \n",
       "91                    1                    1  ...           12           12   \n",
       "92                    5                    5  ...            7           16   \n",
       "\n",
       "    POSSE BOLA CASA  POSSE BOLA FORA ESTÁDIO  \\\n",
       "0             29.6%            70.4%     NaN   \n",
       "1             44.4%            55.6%     NaN   \n",
       "2             64.1%            35.9%     NaN   \n",
       "3             32.3%            67.7%     NaN   \n",
       "4             35.9%            64.1%     NaN   \n",
       "..              ...              ...     ...   \n",
       "88            43.6%            56.4%     NaN   \n",
       "89            52.5%            47.5%     NaN   \n",
       "90            34.8%            65.2%     NaN   \n",
       "91            45.2%            54.8%     NaN   \n",
       "92              50%              50%     NaN   \n",
       "\n",
       "                                    CAMPEONATO  CARTAO AMARELO CASA  \\\n",
       "0                     2025 Brasileiro Serie A                   NaN   \n",
       "1                     2025 Brasileiro Serie A                   NaN   \n",
       "2                     2025 Brasileiro Serie A                   NaN   \n",
       "3                     2025 Brasileiro Serie A                   NaN   \n",
       "4                     2025 Brasileiro Serie A                   NaN   \n",
       "..                                         ...                  ...   \n",
       "88  2025 CONMEBOL Sudamericana, Fase de Grupos                  NaN   \n",
       "89  2025 CONMEBOL Sudamericana, Fase de Grupos                  NaN   \n",
       "90  2025 CONMEBOL Sudamericana, Fase de Grupos                  NaN   \n",
       "91  2025 CONMEBOL Sudamericana, Fase de Grupos                  NaN   \n",
       "92              2024-25 English Premier League                  NaN   \n",
       "\n",
       "   CARTAO AMARELO FORA                             ESTADIO        DATA  \n",
       "0                  NaN                            Castelão  29/03/2025  \n",
       "1                  NaN                    Estadio Mineirão  29/03/2025  \n",
       "2                  NaN                            MorumBIS  29/03/2025  \n",
       "3                  NaN                        Grêmio Arena  29/03/2025  \n",
       "4                  NaN                      Alfredo Jaconi  29/03/2025  \n",
       "..                 ...                                 ...         ...  \n",
       "88                 NaN  Estadio Fernando Guerrero Guerrero  03/04/2025  \n",
       "89                 NaN              Estadio Misael Delgado  03/04/2025  \n",
       "90                 NaN                  Estadio Centenario  03/04/2025  \n",
       "91                 NaN              Estadio Hernando Siles  03/04/2025  \n",
       "92                 NaN                     Stamford Bridge  03/04/2025  \n",
       "\n",
       "[93 rows x 22 columns]"
      ]
     },
     "execution_count": 120,
     "metadata": {},
     "output_type": "execute_result"
    }
   ],
   "source": [
    "dados = pd.read_excel(\"dados.xlsx\")\n",
    "\n",
    "dados"
   ]
  },
  {
   "cell_type": "markdown",
   "id": "a2f5f491-f656-4063-a541-4e9506ec796c",
   "metadata": {},
   "source": [
    "### Funções"
   ]
  },
  {
   "cell_type": "code",
   "execution_count": 121,
   "id": "1c34389b-30ec-4612-abee-02dc1ed7751f",
   "metadata": {},
   "outputs": [],
   "source": [
    "# Função para verificar se as colunas necessárias estão presentes no DataFrame\n",
    "def verifica_colunas(dados, colunas_necessarias):\n",
    "    for coluna in colunas_necessarias:\n",
    "        if coluna not in dados.columns:\n",
    "            raise KeyError(f\"A coluna '{coluna}' não está presente no DataFrame 'dados'.\")\n",
    "\n",
    "# Função para extrair dados de um time específico\n",
    "def extrai_dados(time):\n",
    "    return dados[(dados[\"TIME CASA\"] == time) | (dados[\"TIME FORA\"] == time)]\n",
    "\n",
    "# Função para filtrar os dados de acordo com o time e o tipo de dado\n",
    "def filtra_dados(time, tipo_de_dado):\n",
    "    tipo_de_dado = tipo_de_dado.upper()\n",
    "    \n",
    "    colunas_necessarias = [\n",
    "        \"TIME CASA\", \"TIME FORA\", f\"{tipo_de_dado} CASA\", f\"{tipo_de_dado} FORA\", \n",
    "        \"CAMPEONATO\", \"DATA\", \"GOLS CASA\", \"GOLS FORA\"\n",
    "    ]\n",
    "    verifica_colunas(dados, colunas_necessarias)\n",
    "    \n",
    "    casa_df = pd.DataFrame(columns=colunas_necessarias)\n",
    "    fora_df = pd.DataFrame(columns=colunas_necessarias)\n",
    "    \n",
    "    for _, linha in dados.iterrows():\n",
    "        if time in linha[\"TIME CASA\"]:\n",
    "            casa_df = pd.concat([casa_df, pd.DataFrame([linha])], ignore_index=True)\n",
    "        elif time in linha[\"TIME FORA\"]:\n",
    "            fora_df = pd.concat([fora_df, pd.DataFrame([linha])], ignore_index=True)\n",
    "    \n",
    "    return casa_df[colunas_necessarias], fora_df[colunas_necessarias]\n",
    "\n",
    "# Função para exibir os dados filtrados\n",
    "def exibe_dados(time, tipo_de_dado):\n",
    "    casa, fora = filtra_dados(time, tipo_de_dado)\n",
    "    \n",
    "    if casa.empty:\n",
    "        print(f\"Nenhum dado encontrado para {time} como time casa.\")\n",
    "    else:\n",
    "        print(f\"Dados para {time} como time casa:\")\n",
    "        display(casa)\n",
    "    \n",
    "    if fora.empty:\n",
    "        print(f\"Nenhum dado encontrado para {time} como time fora.\")\n",
    "    else:\n",
    "        print(f\"Dados para {time} como time fora:\")\n",
    "        display(fora)\n",
    "\n",
    "# Função para calcular as médias dos dados de um time\n",
    "def calcula_media(dataframe, coluna):\n",
    "    return dataframe[coluna].mean() if not dataframe.empty else 0\n",
    "\n",
    "def media_dados_time(time, tipo_de_dado):\n",
    "    tipo_de_dado = tipo_de_dado.upper()\n",
    "    \n",
    "    casa, fora = filtra_dados(time, tipo_de_dado)\n",
    "    \n",
    "    media_casa = calcula_media(casa, f\"{tipo_de_dado} CASA\")\n",
    "    media_fora = calcula_media(fora, f\"{tipo_de_dado} FORA\")\n",
    "    total_jogos = casa.shape[0] + fora.shape[0]\n",
    "    media_geral = (media_casa * casa.shape[0] + media_fora * fora.shape[0]) / total_jogos if total_jogos > 0 else 0\n",
    "\n",
    "    print(\n",
    "        f\"===========- DADOS {tipo_de_dado} {time} -===========\\n\"\n",
    "        f\"Média {tipo_de_dado} jogando em casa: {media_casa:.2f}\\n\"\n",
    "        f\"Média {tipo_de_dado} jogando fora: {media_fora:.2f}\\n\"\n",
    "        f\"Média {tipo_de_dado} Geral (casa e fora): {media_geral:.2f}\"\n",
    "    )\n",
    "        \n",
    "    return media_casa, media_fora, media_geral\n",
    "\n",
    "# Função principal para exibir resultados e calcular médias\n",
    "def resultados(time, tipo_de_dado):\n",
    "    exibe_dados(time, tipo_de_dado)\n",
    "    media_dados_time(time, tipo_de_dado)"
   ]
  },
  {
   "cell_type": "code",
   "execution_count": 122,
   "id": "c33087c2-07e0-4224-b84a-353df9ecca76",
   "metadata": {},
   "outputs": [
    {
     "data": {
      "text/plain": [
       "Index(['TIME CASA', 'TIME FORA', 'GOLS CASA', 'GOLS FORA', 'CHUTES GOL CASA',\n",
       "       'CHUTES GOL FORA', 'FINALIZAÇÕES CASA', 'FINALIZAÇÕES FORA',\n",
       "       'CARTÃO AMARELO CASA', 'CARTÃO AMARELO FORA', 'ESCANTEIOS CASA',\n",
       "       'ESCANTEIOS FORA', 'FALTAS CASA', 'FALTAS FORA', 'POSSE BOLA CASA',\n",
       "       'POSSE BOLA FORA', 'ESTÁDIO', 'CAMPEONATO', 'CARTAO AMARELO CASA',\n",
       "       'CARTAO AMARELO FORA', 'ESTADIO', 'DATA'],\n",
       "      dtype='object')"
      ]
     },
     "metadata": {},
     "output_type": "display_data"
    }
   ],
   "source": [
    "display(dados.columns)"
   ]
  },
  {
   "cell_type": "code",
   "execution_count": 123,
   "id": "0fda8315-276c-4e9d-8d14-364d5d00795c",
   "metadata": {},
   "outputs": [
    {
     "name": "stdout",
     "output_type": "stream",
     "text": [
      "['Alavés' 'Alianza Lima' 'Angers' 'Arsenal' 'Athletic' 'Atl. Nacional'\n",
      " 'Atlético Grau' 'Auxerre' 'Bahia' 'Barcelona' 'Bayern' 'Benfica' 'Betis'\n",
      " 'Boavista' 'Borussia Dortmund' 'Boston River' 'Bournemouth' 'Braga'\n",
      " 'Brighton' 'Bucaramanga' 'Bulo Bulo' 'C. Córdoba (SE)' 'Cagliari'\n",
      " 'Carabobo' 'Casa Pia' 'Cerro Largo' 'Cerro Porteño' 'Chelsea' 'Cienciano'\n",
      " 'Como' 'Corinthians' 'Cristal' 'Cruzeiro' 'Dep. Iquique' 'Espanyol'\n",
      " 'Estoril' 'Estrela' 'FC Famalicao' 'Fiorentina' 'Flamengo' 'Fortaleza'\n",
      " 'Frankfurt' 'Freiburg' 'GV San José' 'Getafe' 'Gladbach' 'Grêmio'\n",
      " 'Hoffenheim' 'Holstein Kiel' 'Inter' 'Juventude' 'Juventus' 'Le Havre AC'\n",
      " 'Lecce' 'Lille' 'Liverpool' 'Luqueño' 'Man City' 'Melgar' 'Monaco'\n",
      " 'Moreirense' 'Mushuc Runa' 'N Potosí' 'Napoli' 'Newcastle' 'Nottm Forest'\n",
      " 'Once Caldas' 'Palmeiras' 'Puerto Cabello' 'R Sociedad' 'Racing (M)'\n",
      " 'Real Madrid' 'Reims' 'Santa Clara' 'Southampton' 'St. Etienne'\n",
      " 'São Paulo' 'Talleres' 'Toulouse' 'Táchira' 'U de Chile' 'Universitario'\n",
      " 'Unión (SF)' 'Valencia' 'Vasco' 'Venezia' 'Vitória' 'Vélez' 'Wolfsburg'\n",
      " 'Wolves']\n"
     ]
    }
   ],
   "source": [
    "valores_unicos_ordenados = dados[\"TIME CASA\"].unique()\n",
    "valores_unicos_ordenados.sort()\n",
    "\n",
    "print(valores_unicos_ordenados)"
   ]
  },
  {
   "cell_type": "markdown",
   "id": "435f73bb-805c-463d-8372-87e5a749b88e",
   "metadata": {},
   "source": [
    "# Times"
   ]
  },
  {
   "cell_type": "code",
   "execution_count": 124,
   "id": "b2bdef0a-5d50-434c-b106-816a69a25c63",
   "metadata": {},
   "outputs": [],
   "source": [
    "time_casa = \"Everton\"\n",
    "time_fora = \"Arsenal\""
   ]
  },
  {
   "cell_type": "code",
   "execution_count": 125,
   "id": "81ebf907-cdba-44bf-a86a-4415d7f0fe49",
   "metadata": {},
   "outputs": [
    {
     "name": "stdout",
     "output_type": "stream",
     "text": [
      "['Alavés' 'Alianza Lima' 'Angers' 'Arsenal' 'Athletic' 'Atl. Nacional'\n",
      " 'Atlético Grau' 'Auxerre' 'Bahia' 'Barcelona' 'Bayern' 'Benfica' 'Betis'\n",
      " 'Boavista' 'Borussia Dortmund' 'Boston River' 'Bournemouth' 'Braga'\n",
      " 'Brighton' 'Bucaramanga' 'Bulo Bulo' 'C. Córdoba (SE)' 'Cagliari'\n",
      " 'Carabobo' 'Casa Pia' 'Cerro Largo' 'Cerro Porteño' 'Chelsea' 'Cienciano'\n",
      " 'Como' 'Corinthians' 'Cristal' 'Cruzeiro' 'Dep. Iquique' 'Espanyol'\n",
      " 'Estoril' 'Estrela' 'FC Famalicao' 'Fiorentina' 'Flamengo' 'Fortaleza'\n",
      " 'Frankfurt' 'Freiburg' 'GV San José' 'Getafe' 'Gladbach' 'Grêmio'\n",
      " 'Hoffenheim' 'Holstein Kiel' 'Inter' 'Juventude' 'Juventus' 'Le Havre AC'\n",
      " 'Lecce' 'Lille' 'Liverpool' 'Luqueño' 'Man City' 'Melgar' 'Monaco'\n",
      " 'Moreirense' 'Mushuc Runa' 'N Potosí' 'Napoli' 'Newcastle' 'Nottm Forest'\n",
      " 'Once Caldas' 'Palmeiras' 'Puerto Cabello' 'R Sociedad' 'Racing (M)'\n",
      " 'Real Madrid' 'Reims' 'Santa Clara' 'Southampton' 'St. Etienne'\n",
      " 'São Paulo' 'Talleres' 'Toulouse' 'Táchira' 'U de Chile' 'Universitario'\n",
      " 'Unión (SF)' 'Valencia' 'Vasco' 'Venezia' 'Vitória' 'Vélez' 'Wolfsburg'\n",
      " 'Wolves']\n"
     ]
    }
   ],
   "source": [
    "valores_unicos_ordenados = dados[\"TIME CASA\"].unique()\n",
    "valores_unicos_ordenados.sort()\n",
    "\n",
    "print(valores_unicos_ordenados)"
   ]
  },
  {
   "cell_type": "markdown",
   "id": "ae6c72cb-8d6e-479e-b3dd-10ade5fb6818",
   "metadata": {},
   "source": [
    "# Finalizações"
   ]
  },
  {
   "cell_type": "markdown",
   "id": "0e696f5d-8cd5-4a3f-964c-5b2b541d7db8",
   "metadata": {},
   "source": [
    "## Time casa:"
   ]
  },
  {
   "cell_type": "code",
   "execution_count": 126,
   "id": "c4add9eb-5557-473c-b01c-4da3839e33ae",
   "metadata": {},
   "outputs": [
    {
     "name": "stdout",
     "output_type": "stream",
     "text": [
      "Nenhum dado encontrado para Everton como time casa.\n",
      "Dados para Everton como time fora:\n"
     ]
    },
    {
     "data": {
      "text/html": [
       "<div>\n",
       "<style scoped>\n",
       "    .dataframe tbody tr th:only-of-type {\n",
       "        vertical-align: middle;\n",
       "    }\n",
       "\n",
       "    .dataframe tbody tr th {\n",
       "        vertical-align: top;\n",
       "    }\n",
       "\n",
       "    .dataframe thead th {\n",
       "        text-align: right;\n",
       "    }\n",
       "</style>\n",
       "<table border=\"1\" class=\"dataframe\">\n",
       "  <thead>\n",
       "    <tr style=\"text-align: right;\">\n",
       "      <th></th>\n",
       "      <th>TIME CASA</th>\n",
       "      <th>TIME FORA</th>\n",
       "      <th>FINALIZAÇÕES CASA</th>\n",
       "      <th>FINALIZAÇÕES FORA</th>\n",
       "      <th>CAMPEONATO</th>\n",
       "      <th>DATA</th>\n",
       "      <th>GOLS CASA</th>\n",
       "      <th>GOLS FORA</th>\n",
       "    </tr>\n",
       "  </thead>\n",
       "  <tbody>\n",
       "    <tr>\n",
       "      <th>0</th>\n",
       "      <td>Liverpool</td>\n",
       "      <td>Everton</td>\n",
       "      <td>17</td>\n",
       "      <td>5</td>\n",
       "      <td>2024-25 English Premier League</td>\n",
       "      <td>03/04/2025</td>\n",
       "      <td>1</td>\n",
       "      <td>0</td>\n",
       "    </tr>\n",
       "  </tbody>\n",
       "</table>\n",
       "</div>"
      ],
      "text/plain": [
       "   TIME CASA TIME FORA FINALIZAÇÕES CASA FINALIZAÇÕES FORA  \\\n",
       "0  Liverpool   Everton                17                 5   \n",
       "\n",
       "                       CAMPEONATO        DATA GOLS CASA GOLS FORA  \n",
       "0  2024-25 English Premier League  03/04/2025         1         0  "
      ]
     },
     "metadata": {},
     "output_type": "display_data"
    },
    {
     "name": "stdout",
     "output_type": "stream",
     "text": [
      "===========- DADOS FINALIZAÇÕES Everton -===========\n",
      "Média FINALIZAÇÕES jogando em casa: 0.00\n",
      "Média FINALIZAÇÕES jogando fora: 5.00\n",
      "Média FINALIZAÇÕES Geral (casa e fora): 5.00\n"
     ]
    }
   ],
   "source": [
    "resultados(time_casa, \"finalizações\")"
   ]
  },
  {
   "cell_type": "markdown",
   "id": "0fcd2e95-347c-4eb7-9ebc-c6808e5e0826",
   "metadata": {},
   "source": [
    "## Time fora:"
   ]
  },
  {
   "cell_type": "code",
   "execution_count": 127,
   "id": "533afeb7-cf9b-4195-96f5-5ea4a775c5ab",
   "metadata": {},
   "outputs": [
    {
     "name": "stdout",
     "output_type": "stream",
     "text": [
      "Dados para Arsenal como time casa:\n"
     ]
    },
    {
     "data": {
      "text/html": [
       "<div>\n",
       "<style scoped>\n",
       "    .dataframe tbody tr th:only-of-type {\n",
       "        vertical-align: middle;\n",
       "    }\n",
       "\n",
       "    .dataframe tbody tr th {\n",
       "        vertical-align: top;\n",
       "    }\n",
       "\n",
       "    .dataframe thead th {\n",
       "        text-align: right;\n",
       "    }\n",
       "</style>\n",
       "<table border=\"1\" class=\"dataframe\">\n",
       "  <thead>\n",
       "    <tr style=\"text-align: right;\">\n",
       "      <th></th>\n",
       "      <th>TIME CASA</th>\n",
       "      <th>TIME FORA</th>\n",
       "      <th>FINALIZAÇÕES CASA</th>\n",
       "      <th>FINALIZAÇÕES FORA</th>\n",
       "      <th>CAMPEONATO</th>\n",
       "      <th>DATA</th>\n",
       "      <th>GOLS CASA</th>\n",
       "      <th>GOLS FORA</th>\n",
       "    </tr>\n",
       "  </thead>\n",
       "  <tbody>\n",
       "    <tr>\n",
       "      <th>0</th>\n",
       "      <td>Arsenal</td>\n",
       "      <td>Fulham</td>\n",
       "      <td>17</td>\n",
       "      <td>9</td>\n",
       "      <td>2024-25 English Premier League</td>\n",
       "      <td>01/04/2025</td>\n",
       "      <td>2</td>\n",
       "      <td>1</td>\n",
       "    </tr>\n",
       "  </tbody>\n",
       "</table>\n",
       "</div>"
      ],
      "text/plain": [
       "  TIME CASA TIME FORA FINALIZAÇÕES CASA FINALIZAÇÕES FORA  \\\n",
       "0   Arsenal    Fulham                17                 9   \n",
       "\n",
       "                       CAMPEONATO        DATA GOLS CASA GOLS FORA  \n",
       "0  2024-25 English Premier League  01/04/2025         2         1  "
      ]
     },
     "metadata": {},
     "output_type": "display_data"
    },
    {
     "name": "stdout",
     "output_type": "stream",
     "text": [
      "Nenhum dado encontrado para Arsenal como time fora.\n",
      "===========- DADOS FINALIZAÇÕES Arsenal -===========\n",
      "Média FINALIZAÇÕES jogando em casa: 17.00\n",
      "Média FINALIZAÇÕES jogando fora: 0.00\n",
      "Média FINALIZAÇÕES Geral (casa e fora): 17.00\n"
     ]
    }
   ],
   "source": [
    "resultados(time_fora, \"finalizações\")"
   ]
  },
  {
   "cell_type": "markdown",
   "id": "a24c5c38-5740-4f1b-83ca-97de14239d46",
   "metadata": {},
   "source": [
    "# Chutes ao gol"
   ]
  },
  {
   "cell_type": "markdown",
   "id": "b70db851-9094-41f8-b325-46faefb54b2b",
   "metadata": {},
   "source": [
    "### Time casa:"
   ]
  },
  {
   "cell_type": "code",
   "execution_count": 128,
   "id": "1069971b-e5f8-4e87-81ec-9d846291792c",
   "metadata": {},
   "outputs": [
    {
     "name": "stdout",
     "output_type": "stream",
     "text": [
      "Nenhum dado encontrado para Everton como time casa.\n",
      "Dados para Everton como time fora:\n"
     ]
    },
    {
     "data": {
      "text/html": [
       "<div>\n",
       "<style scoped>\n",
       "    .dataframe tbody tr th:only-of-type {\n",
       "        vertical-align: middle;\n",
       "    }\n",
       "\n",
       "    .dataframe tbody tr th {\n",
       "        vertical-align: top;\n",
       "    }\n",
       "\n",
       "    .dataframe thead th {\n",
       "        text-align: right;\n",
       "    }\n",
       "</style>\n",
       "<table border=\"1\" class=\"dataframe\">\n",
       "  <thead>\n",
       "    <tr style=\"text-align: right;\">\n",
       "      <th></th>\n",
       "      <th>TIME CASA</th>\n",
       "      <th>TIME FORA</th>\n",
       "      <th>CHUTES GOL CASA</th>\n",
       "      <th>CHUTES GOL FORA</th>\n",
       "      <th>CAMPEONATO</th>\n",
       "      <th>DATA</th>\n",
       "      <th>GOLS CASA</th>\n",
       "      <th>GOLS FORA</th>\n",
       "    </tr>\n",
       "  </thead>\n",
       "  <tbody>\n",
       "    <tr>\n",
       "      <th>0</th>\n",
       "      <td>Liverpool</td>\n",
       "      <td>Everton</td>\n",
       "      <td>3</td>\n",
       "      <td>0</td>\n",
       "      <td>2024-25 English Premier League</td>\n",
       "      <td>03/04/2025</td>\n",
       "      <td>1</td>\n",
       "      <td>0</td>\n",
       "    </tr>\n",
       "  </tbody>\n",
       "</table>\n",
       "</div>"
      ],
      "text/plain": [
       "   TIME CASA TIME FORA CHUTES GOL CASA CHUTES GOL FORA  \\\n",
       "0  Liverpool   Everton               3               0   \n",
       "\n",
       "                       CAMPEONATO        DATA GOLS CASA GOLS FORA  \n",
       "0  2024-25 English Premier League  03/04/2025         1         0  "
      ]
     },
     "metadata": {},
     "output_type": "display_data"
    },
    {
     "name": "stdout",
     "output_type": "stream",
     "text": [
      "===========- DADOS CHUTES GOL Everton -===========\n",
      "Média CHUTES GOL jogando em casa: 0.00\n",
      "Média CHUTES GOL jogando fora: 0.00\n",
      "Média CHUTES GOL Geral (casa e fora): 0.00\n"
     ]
    }
   ],
   "source": [
    "resultados(time_casa, \"Chutes gol\")"
   ]
  },
  {
   "cell_type": "markdown",
   "id": "22602b50-6996-4523-ab4e-485695cc0d8b",
   "metadata": {},
   "source": [
    "### Time fora:"
   ]
  },
  {
   "cell_type": "code",
   "execution_count": 129,
   "id": "78d6e6f2-fe45-454d-b90f-d46a9c670c7b",
   "metadata": {},
   "outputs": [
    {
     "name": "stdout",
     "output_type": "stream",
     "text": [
      "Dados para Arsenal como time casa:\n"
     ]
    },
    {
     "data": {
      "text/html": [
       "<div>\n",
       "<style scoped>\n",
       "    .dataframe tbody tr th:only-of-type {\n",
       "        vertical-align: middle;\n",
       "    }\n",
       "\n",
       "    .dataframe tbody tr th {\n",
       "        vertical-align: top;\n",
       "    }\n",
       "\n",
       "    .dataframe thead th {\n",
       "        text-align: right;\n",
       "    }\n",
       "</style>\n",
       "<table border=\"1\" class=\"dataframe\">\n",
       "  <thead>\n",
       "    <tr style=\"text-align: right;\">\n",
       "      <th></th>\n",
       "      <th>TIME CASA</th>\n",
       "      <th>TIME FORA</th>\n",
       "      <th>CHUTES GOL CASA</th>\n",
       "      <th>CHUTES GOL FORA</th>\n",
       "      <th>CAMPEONATO</th>\n",
       "      <th>DATA</th>\n",
       "      <th>GOLS CASA</th>\n",
       "      <th>GOLS FORA</th>\n",
       "    </tr>\n",
       "  </thead>\n",
       "  <tbody>\n",
       "    <tr>\n",
       "      <th>0</th>\n",
       "      <td>Arsenal</td>\n",
       "      <td>Fulham</td>\n",
       "      <td>4</td>\n",
       "      <td>3</td>\n",
       "      <td>2024-25 English Premier League</td>\n",
       "      <td>01/04/2025</td>\n",
       "      <td>2</td>\n",
       "      <td>1</td>\n",
       "    </tr>\n",
       "  </tbody>\n",
       "</table>\n",
       "</div>"
      ],
      "text/plain": [
       "  TIME CASA TIME FORA CHUTES GOL CASA CHUTES GOL FORA  \\\n",
       "0   Arsenal    Fulham               4               3   \n",
       "\n",
       "                       CAMPEONATO        DATA GOLS CASA GOLS FORA  \n",
       "0  2024-25 English Premier League  01/04/2025         2         1  "
      ]
     },
     "metadata": {},
     "output_type": "display_data"
    },
    {
     "name": "stdout",
     "output_type": "stream",
     "text": [
      "Nenhum dado encontrado para Arsenal como time fora.\n",
      "===========- DADOS CHUTES GOL Arsenal -===========\n",
      "Média CHUTES GOL jogando em casa: 4.00\n",
      "Média CHUTES GOL jogando fora: 0.00\n",
      "Média CHUTES GOL Geral (casa e fora): 4.00\n"
     ]
    }
   ],
   "source": [
    "resultados(time_fora, \"Chutes gol\")"
   ]
  },
  {
   "cell_type": "markdown",
   "id": "2ad758c8-6a32-41c1-90d1-542ccb285a4c",
   "metadata": {},
   "source": [
    "# Cartões"
   ]
  },
  {
   "cell_type": "markdown",
   "id": "5bd52e60-4322-49c6-8b00-6fb4e6566121",
   "metadata": {},
   "source": [
    "### Time casa:"
   ]
  },
  {
   "cell_type": "code",
   "execution_count": 130,
   "id": "7dc41aaa-a7a4-4339-ab3d-638aef0cfc55",
   "metadata": {},
   "outputs": [
    {
     "name": "stdout",
     "output_type": "stream",
     "text": [
      "Nenhum dado encontrado para Everton como time casa.\n",
      "Dados para Everton como time fora:\n"
     ]
    },
    {
     "data": {
      "text/html": [
       "<div>\n",
       "<style scoped>\n",
       "    .dataframe tbody tr th:only-of-type {\n",
       "        vertical-align: middle;\n",
       "    }\n",
       "\n",
       "    .dataframe tbody tr th {\n",
       "        vertical-align: top;\n",
       "    }\n",
       "\n",
       "    .dataframe thead th {\n",
       "        text-align: right;\n",
       "    }\n",
       "</style>\n",
       "<table border=\"1\" class=\"dataframe\">\n",
       "  <thead>\n",
       "    <tr style=\"text-align: right;\">\n",
       "      <th></th>\n",
       "      <th>TIME CASA</th>\n",
       "      <th>TIME FORA</th>\n",
       "      <th>CARTÃO AMARELO CASA</th>\n",
       "      <th>CARTÃO AMARELO FORA</th>\n",
       "      <th>CAMPEONATO</th>\n",
       "      <th>DATA</th>\n",
       "      <th>GOLS CASA</th>\n",
       "      <th>GOLS FORA</th>\n",
       "    </tr>\n",
       "  </thead>\n",
       "  <tbody>\n",
       "    <tr>\n",
       "      <th>0</th>\n",
       "      <td>Liverpool</td>\n",
       "      <td>Everton</td>\n",
       "      <td>2</td>\n",
       "      <td>2</td>\n",
       "      <td>2024-25 English Premier League</td>\n",
       "      <td>03/04/2025</td>\n",
       "      <td>1</td>\n",
       "      <td>0</td>\n",
       "    </tr>\n",
       "  </tbody>\n",
       "</table>\n",
       "</div>"
      ],
      "text/plain": [
       "   TIME CASA TIME FORA CARTÃO AMARELO CASA CARTÃO AMARELO FORA  \\\n",
       "0  Liverpool   Everton                   2                   2   \n",
       "\n",
       "                       CAMPEONATO        DATA GOLS CASA GOLS FORA  \n",
       "0  2024-25 English Premier League  03/04/2025         1         0  "
      ]
     },
     "metadata": {},
     "output_type": "display_data"
    },
    {
     "name": "stdout",
     "output_type": "stream",
     "text": [
      "===========- DADOS CARTÃO AMARELO Everton -===========\n",
      "Média CARTÃO AMARELO jogando em casa: 0.00\n",
      "Média CARTÃO AMARELO jogando fora: 2.00\n",
      "Média CARTÃO AMARELO Geral (casa e fora): 2.00\n"
     ]
    }
   ],
   "source": [
    "resultados(time_casa, \"CARTÃO AMARELO\")"
   ]
  },
  {
   "cell_type": "markdown",
   "id": "104f2765-0300-49dc-b6f1-9aefffabd246",
   "metadata": {},
   "source": [
    "### Time Fora"
   ]
  },
  {
   "cell_type": "code",
   "execution_count": 131,
   "id": "187db8d3-45ce-468b-bff6-e6b5261e2f23",
   "metadata": {},
   "outputs": [
    {
     "name": "stdout",
     "output_type": "stream",
     "text": [
      "Dados para Arsenal como time casa:\n"
     ]
    },
    {
     "data": {
      "text/html": [
       "<div>\n",
       "<style scoped>\n",
       "    .dataframe tbody tr th:only-of-type {\n",
       "        vertical-align: middle;\n",
       "    }\n",
       "\n",
       "    .dataframe tbody tr th {\n",
       "        vertical-align: top;\n",
       "    }\n",
       "\n",
       "    .dataframe thead th {\n",
       "        text-align: right;\n",
       "    }\n",
       "</style>\n",
       "<table border=\"1\" class=\"dataframe\">\n",
       "  <thead>\n",
       "    <tr style=\"text-align: right;\">\n",
       "      <th></th>\n",
       "      <th>TIME CASA</th>\n",
       "      <th>TIME FORA</th>\n",
       "      <th>CARTÃO AMARELO CASA</th>\n",
       "      <th>CARTÃO AMARELO FORA</th>\n",
       "      <th>CAMPEONATO</th>\n",
       "      <th>DATA</th>\n",
       "      <th>GOLS CASA</th>\n",
       "      <th>GOLS FORA</th>\n",
       "    </tr>\n",
       "  </thead>\n",
       "  <tbody>\n",
       "    <tr>\n",
       "      <th>0</th>\n",
       "      <td>Arsenal</td>\n",
       "      <td>Fulham</td>\n",
       "      <td>1</td>\n",
       "      <td>2</td>\n",
       "      <td>2024-25 English Premier League</td>\n",
       "      <td>01/04/2025</td>\n",
       "      <td>2</td>\n",
       "      <td>1</td>\n",
       "    </tr>\n",
       "  </tbody>\n",
       "</table>\n",
       "</div>"
      ],
      "text/plain": [
       "  TIME CASA TIME FORA CARTÃO AMARELO CASA CARTÃO AMARELO FORA  \\\n",
       "0   Arsenal    Fulham                   1                   2   \n",
       "\n",
       "                       CAMPEONATO        DATA GOLS CASA GOLS FORA  \n",
       "0  2024-25 English Premier League  01/04/2025         2         1  "
      ]
     },
     "metadata": {},
     "output_type": "display_data"
    },
    {
     "name": "stdout",
     "output_type": "stream",
     "text": [
      "Nenhum dado encontrado para Arsenal como time fora.\n",
      "===========- DADOS CARTÃO AMARELO Arsenal -===========\n",
      "Média CARTÃO AMARELO jogando em casa: 1.00\n",
      "Média CARTÃO AMARELO jogando fora: 0.00\n",
      "Média CARTÃO AMARELO Geral (casa e fora): 1.00\n"
     ]
    }
   ],
   "source": [
    "resultados(time_fora, \"CARTÃO AMARELO\")"
   ]
  },
  {
   "cell_type": "markdown",
   "id": "9ddeb161-d53b-4e2b-ab63-db0e95cfc7c6",
   "metadata": {},
   "source": [
    "# Escanteios"
   ]
  },
  {
   "cell_type": "markdown",
   "id": "21e0b777-059f-46ea-b139-ddd09c6b823e",
   "metadata": {},
   "source": [
    "### Time Casa:"
   ]
  },
  {
   "cell_type": "code",
   "execution_count": 132,
   "id": "0795ac90-a136-4ff2-ab11-35b038a70f62",
   "metadata": {},
   "outputs": [
    {
     "name": "stdout",
     "output_type": "stream",
     "text": [
      "Nenhum dado encontrado para Everton como time casa.\n",
      "Dados para Everton como time fora:\n"
     ]
    },
    {
     "data": {
      "text/html": [
       "<div>\n",
       "<style scoped>\n",
       "    .dataframe tbody tr th:only-of-type {\n",
       "        vertical-align: middle;\n",
       "    }\n",
       "\n",
       "    .dataframe tbody tr th {\n",
       "        vertical-align: top;\n",
       "    }\n",
       "\n",
       "    .dataframe thead th {\n",
       "        text-align: right;\n",
       "    }\n",
       "</style>\n",
       "<table border=\"1\" class=\"dataframe\">\n",
       "  <thead>\n",
       "    <tr style=\"text-align: right;\">\n",
       "      <th></th>\n",
       "      <th>TIME CASA</th>\n",
       "      <th>TIME FORA</th>\n",
       "      <th>ESCANTEIOS CASA</th>\n",
       "      <th>ESCANTEIOS FORA</th>\n",
       "      <th>CAMPEONATO</th>\n",
       "      <th>DATA</th>\n",
       "      <th>GOLS CASA</th>\n",
       "      <th>GOLS FORA</th>\n",
       "    </tr>\n",
       "  </thead>\n",
       "  <tbody>\n",
       "    <tr>\n",
       "      <th>0</th>\n",
       "      <td>Liverpool</td>\n",
       "      <td>Everton</td>\n",
       "      <td>11</td>\n",
       "      <td>5</td>\n",
       "      <td>2024-25 English Premier League</td>\n",
       "      <td>03/04/2025</td>\n",
       "      <td>1</td>\n",
       "      <td>0</td>\n",
       "    </tr>\n",
       "  </tbody>\n",
       "</table>\n",
       "</div>"
      ],
      "text/plain": [
       "   TIME CASA TIME FORA ESCANTEIOS CASA ESCANTEIOS FORA  \\\n",
       "0  Liverpool   Everton              11               5   \n",
       "\n",
       "                       CAMPEONATO        DATA GOLS CASA GOLS FORA  \n",
       "0  2024-25 English Premier League  03/04/2025         1         0  "
      ]
     },
     "metadata": {},
     "output_type": "display_data"
    },
    {
     "name": "stdout",
     "output_type": "stream",
     "text": [
      "===========- DADOS ESCANTEIOS Everton -===========\n",
      "Média ESCANTEIOS jogando em casa: 0.00\n",
      "Média ESCANTEIOS jogando fora: 5.00\n",
      "Média ESCANTEIOS Geral (casa e fora): 5.00\n"
     ]
    }
   ],
   "source": [
    "resultados(time_casa, \"escanteios\")"
   ]
  },
  {
   "cell_type": "markdown",
   "id": "f9dcb2f0-95c2-430c-98b0-8a5b465d81fe",
   "metadata": {},
   "source": [
    "### Time Fora:"
   ]
  },
  {
   "cell_type": "code",
   "execution_count": 133,
   "id": "65743354-e97e-4e5f-ba53-e030013f115b",
   "metadata": {},
   "outputs": [
    {
     "name": "stdout",
     "output_type": "stream",
     "text": [
      "Dados para Arsenal como time casa:\n"
     ]
    },
    {
     "data": {
      "text/html": [
       "<div>\n",
       "<style scoped>\n",
       "    .dataframe tbody tr th:only-of-type {\n",
       "        vertical-align: middle;\n",
       "    }\n",
       "\n",
       "    .dataframe tbody tr th {\n",
       "        vertical-align: top;\n",
       "    }\n",
       "\n",
       "    .dataframe thead th {\n",
       "        text-align: right;\n",
       "    }\n",
       "</style>\n",
       "<table border=\"1\" class=\"dataframe\">\n",
       "  <thead>\n",
       "    <tr style=\"text-align: right;\">\n",
       "      <th></th>\n",
       "      <th>TIME CASA</th>\n",
       "      <th>TIME FORA</th>\n",
       "      <th>ESCANTEIOS CASA</th>\n",
       "      <th>ESCANTEIOS FORA</th>\n",
       "      <th>CAMPEONATO</th>\n",
       "      <th>DATA</th>\n",
       "      <th>GOLS CASA</th>\n",
       "      <th>GOLS FORA</th>\n",
       "    </tr>\n",
       "  </thead>\n",
       "  <tbody>\n",
       "    <tr>\n",
       "      <th>0</th>\n",
       "      <td>Arsenal</td>\n",
       "      <td>Fulham</td>\n",
       "      <td>5</td>\n",
       "      <td>4</td>\n",
       "      <td>2024-25 English Premier League</td>\n",
       "      <td>01/04/2025</td>\n",
       "      <td>2</td>\n",
       "      <td>1</td>\n",
       "    </tr>\n",
       "  </tbody>\n",
       "</table>\n",
       "</div>"
      ],
      "text/plain": [
       "  TIME CASA TIME FORA ESCANTEIOS CASA ESCANTEIOS FORA  \\\n",
       "0   Arsenal    Fulham               5               4   \n",
       "\n",
       "                       CAMPEONATO        DATA GOLS CASA GOLS FORA  \n",
       "0  2024-25 English Premier League  01/04/2025         2         1  "
      ]
     },
     "metadata": {},
     "output_type": "display_data"
    },
    {
     "name": "stdout",
     "output_type": "stream",
     "text": [
      "Nenhum dado encontrado para Arsenal como time fora.\n",
      "===========- DADOS ESCANTEIOS Arsenal -===========\n",
      "Média ESCANTEIOS jogando em casa: 5.00\n",
      "Média ESCANTEIOS jogando fora: 0.00\n",
      "Média ESCANTEIOS Geral (casa e fora): 5.00\n"
     ]
    }
   ],
   "source": [
    "resultados(time_fora, \"escanteios\")"
   ]
  },
  {
   "cell_type": "markdown",
   "id": "aefdc065-48ad-44ed-b35b-72a05e013d23",
   "metadata": {},
   "source": [
    "# Faltas"
   ]
  },
  {
   "cell_type": "markdown",
   "id": "98c66b25-7b66-4262-83c4-8a2067c1facc",
   "metadata": {},
   "source": [
    "### Time casa"
   ]
  },
  {
   "cell_type": "code",
   "execution_count": 134,
   "id": "36414d44-b07f-4886-b72c-1db56ea8c6b4",
   "metadata": {},
   "outputs": [
    {
     "name": "stdout",
     "output_type": "stream",
     "text": [
      "Nenhum dado encontrado para Everton como time casa.\n",
      "Dados para Everton como time fora:\n"
     ]
    },
    {
     "data": {
      "text/html": [
       "<div>\n",
       "<style scoped>\n",
       "    .dataframe tbody tr th:only-of-type {\n",
       "        vertical-align: middle;\n",
       "    }\n",
       "\n",
       "    .dataframe tbody tr th {\n",
       "        vertical-align: top;\n",
       "    }\n",
       "\n",
       "    .dataframe thead th {\n",
       "        text-align: right;\n",
       "    }\n",
       "</style>\n",
       "<table border=\"1\" class=\"dataframe\">\n",
       "  <thead>\n",
       "    <tr style=\"text-align: right;\">\n",
       "      <th></th>\n",
       "      <th>TIME CASA</th>\n",
       "      <th>TIME FORA</th>\n",
       "      <th>FALTAS CASA</th>\n",
       "      <th>FALTAS FORA</th>\n",
       "      <th>CAMPEONATO</th>\n",
       "      <th>DATA</th>\n",
       "      <th>GOLS CASA</th>\n",
       "      <th>GOLS FORA</th>\n",
       "    </tr>\n",
       "  </thead>\n",
       "  <tbody>\n",
       "    <tr>\n",
       "      <th>0</th>\n",
       "      <td>Liverpool</td>\n",
       "      <td>Everton</td>\n",
       "      <td>7</td>\n",
       "      <td>11</td>\n",
       "      <td>2024-25 English Premier League</td>\n",
       "      <td>03/04/2025</td>\n",
       "      <td>1</td>\n",
       "      <td>0</td>\n",
       "    </tr>\n",
       "  </tbody>\n",
       "</table>\n",
       "</div>"
      ],
      "text/plain": [
       "   TIME CASA TIME FORA FALTAS CASA FALTAS FORA  \\\n",
       "0  Liverpool   Everton           7          11   \n",
       "\n",
       "                       CAMPEONATO        DATA GOLS CASA GOLS FORA  \n",
       "0  2024-25 English Premier League  03/04/2025         1         0  "
      ]
     },
     "metadata": {},
     "output_type": "display_data"
    },
    {
     "name": "stdout",
     "output_type": "stream",
     "text": [
      "===========- DADOS FALTAS Everton -===========\n",
      "Média FALTAS jogando em casa: 0.00\n",
      "Média FALTAS jogando fora: 11.00\n",
      "Média FALTAS Geral (casa e fora): 11.00\n"
     ]
    }
   ],
   "source": [
    "resultados(time_casa, \"faltas\")"
   ]
  },
  {
   "cell_type": "code",
   "execution_count": 135,
   "id": "6e6b4cf9-a65b-4dbe-bf75-33e49835d81f",
   "metadata": {},
   "outputs": [
    {
     "name": "stdout",
     "output_type": "stream",
     "text": [
      "Dados para Arsenal como time casa:\n"
     ]
    },
    {
     "data": {
      "text/html": [
       "<div>\n",
       "<style scoped>\n",
       "    .dataframe tbody tr th:only-of-type {\n",
       "        vertical-align: middle;\n",
       "    }\n",
       "\n",
       "    .dataframe tbody tr th {\n",
       "        vertical-align: top;\n",
       "    }\n",
       "\n",
       "    .dataframe thead th {\n",
       "        text-align: right;\n",
       "    }\n",
       "</style>\n",
       "<table border=\"1\" class=\"dataframe\">\n",
       "  <thead>\n",
       "    <tr style=\"text-align: right;\">\n",
       "      <th></th>\n",
       "      <th>TIME CASA</th>\n",
       "      <th>TIME FORA</th>\n",
       "      <th>FALTAS CASA</th>\n",
       "      <th>FALTAS FORA</th>\n",
       "      <th>CAMPEONATO</th>\n",
       "      <th>DATA</th>\n",
       "      <th>GOLS CASA</th>\n",
       "      <th>GOLS FORA</th>\n",
       "    </tr>\n",
       "  </thead>\n",
       "  <tbody>\n",
       "    <tr>\n",
       "      <th>0</th>\n",
       "      <td>Arsenal</td>\n",
       "      <td>Fulham</td>\n",
       "      <td>2</td>\n",
       "      <td>10</td>\n",
       "      <td>2024-25 English Premier League</td>\n",
       "      <td>01/04/2025</td>\n",
       "      <td>2</td>\n",
       "      <td>1</td>\n",
       "    </tr>\n",
       "  </tbody>\n",
       "</table>\n",
       "</div>"
      ],
      "text/plain": [
       "  TIME CASA TIME FORA FALTAS CASA FALTAS FORA                      CAMPEONATO  \\\n",
       "0   Arsenal    Fulham           2          10  2024-25 English Premier League   \n",
       "\n",
       "         DATA GOLS CASA GOLS FORA  \n",
       "0  01/04/2025         2         1  "
      ]
     },
     "metadata": {},
     "output_type": "display_data"
    },
    {
     "name": "stdout",
     "output_type": "stream",
     "text": [
      "Nenhum dado encontrado para Arsenal como time fora.\n",
      "===========- DADOS FALTAS Arsenal -===========\n",
      "Média FALTAS jogando em casa: 2.00\n",
      "Média FALTAS jogando fora: 0.00\n",
      "Média FALTAS Geral (casa e fora): 2.00\n"
     ]
    }
   ],
   "source": [
    "resultados(time_fora, \"faltas\")"
   ]
  },
  {
   "cell_type": "markdown",
   "id": "6f408120",
   "metadata": {},
   "source": [
    "# GOLS"
   ]
  },
  {
   "cell_type": "markdown",
   "id": "ddbc20ff",
   "metadata": {},
   "source": [
    "### Time Casa"
   ]
  },
  {
   "cell_type": "code",
   "execution_count": 136,
   "id": "9e2e5f43",
   "metadata": {},
   "outputs": [
    {
     "ename": "InvalidIndexError",
     "evalue": "Reindexing only valid with uniquely valued Index objects",
     "output_type": "error",
     "traceback": [
      "\u001b[1;31m---------------------------------------------------------------------------\u001b[0m",
      "\u001b[1;31mInvalidIndexError\u001b[0m                         Traceback (most recent call last)",
      "Cell \u001b[1;32mIn[136], line 1\u001b[0m\n\u001b[1;32m----> 1\u001b[0m \u001b[43mresultados\u001b[49m\u001b[43m(\u001b[49m\u001b[43mtime_casa\u001b[49m\u001b[43m,\u001b[49m\u001b[43m \u001b[49m\u001b[38;5;124;43m\"\u001b[39;49m\u001b[38;5;124;43mGOLS\u001b[39;49m\u001b[38;5;124;43m\"\u001b[39;49m\u001b[43m)\u001b[49m\n",
      "Cell \u001b[1;32mIn[121], line 73\u001b[0m, in \u001b[0;36mresultados\u001b[1;34m(time, tipo_de_dado)\u001b[0m\n\u001b[0;32m     72\u001b[0m \u001b[38;5;28;01mdef\u001b[39;00m \u001b[38;5;21mresultados\u001b[39m(time, tipo_de_dado):\n\u001b[1;32m---> 73\u001b[0m     \u001b[43mexibe_dados\u001b[49m\u001b[43m(\u001b[49m\u001b[43mtime\u001b[49m\u001b[43m,\u001b[49m\u001b[43m \u001b[49m\u001b[43mtipo_de_dado\u001b[49m\u001b[43m)\u001b[49m\n\u001b[0;32m     74\u001b[0m     media_dados_time(time, tipo_de_dado)\n",
      "Cell \u001b[1;32mIn[121], line 34\u001b[0m, in \u001b[0;36mexibe_dados\u001b[1;34m(time, tipo_de_dado)\u001b[0m\n\u001b[0;32m     33\u001b[0m \u001b[38;5;28;01mdef\u001b[39;00m \u001b[38;5;21mexibe_dados\u001b[39m(time, tipo_de_dado):\n\u001b[1;32m---> 34\u001b[0m     casa, fora \u001b[38;5;241m=\u001b[39m \u001b[43mfiltra_dados\u001b[49m\u001b[43m(\u001b[49m\u001b[43mtime\u001b[49m\u001b[43m,\u001b[49m\u001b[43m \u001b[49m\u001b[43mtipo_de_dado\u001b[49m\u001b[43m)\u001b[49m\n\u001b[0;32m     36\u001b[0m     \u001b[38;5;28;01mif\u001b[39;00m casa\u001b[38;5;241m.\u001b[39mempty:\n\u001b[0;32m     37\u001b[0m         \u001b[38;5;28mprint\u001b[39m(\u001b[38;5;124mf\u001b[39m\u001b[38;5;124m\"\u001b[39m\u001b[38;5;124mNenhum dado encontrado para \u001b[39m\u001b[38;5;132;01m{\u001b[39;00mtime\u001b[38;5;132;01m}\u001b[39;00m\u001b[38;5;124m como time casa.\u001b[39m\u001b[38;5;124m\"\u001b[39m)\n",
      "Cell \u001b[1;32mIn[121], line 28\u001b[0m, in \u001b[0;36mfiltra_dados\u001b[1;34m(time, tipo_de_dado)\u001b[0m\n\u001b[0;32m     26\u001b[0m         casa_df \u001b[38;5;241m=\u001b[39m pd\u001b[38;5;241m.\u001b[39mconcat([casa_df, pd\u001b[38;5;241m.\u001b[39mDataFrame([linha])], ignore_index\u001b[38;5;241m=\u001b[39m\u001b[38;5;28;01mTrue\u001b[39;00m)\n\u001b[0;32m     27\u001b[0m     \u001b[38;5;28;01melif\u001b[39;00m time \u001b[38;5;129;01min\u001b[39;00m linha[\u001b[38;5;124m\"\u001b[39m\u001b[38;5;124mTIME FORA\u001b[39m\u001b[38;5;124m\"\u001b[39m]:\n\u001b[1;32m---> 28\u001b[0m         fora_df \u001b[38;5;241m=\u001b[39m \u001b[43mpd\u001b[49m\u001b[38;5;241;43m.\u001b[39;49m\u001b[43mconcat\u001b[49m\u001b[43m(\u001b[49m\u001b[43m[\u001b[49m\u001b[43mfora_df\u001b[49m\u001b[43m,\u001b[49m\u001b[43m \u001b[49m\u001b[43mpd\u001b[49m\u001b[38;5;241;43m.\u001b[39;49m\u001b[43mDataFrame\u001b[49m\u001b[43m(\u001b[49m\u001b[43m[\u001b[49m\u001b[43mlinha\u001b[49m\u001b[43m]\u001b[49m\u001b[43m)\u001b[49m\u001b[43m]\u001b[49m\u001b[43m,\u001b[49m\u001b[43m \u001b[49m\u001b[43mignore_index\u001b[49m\u001b[38;5;241;43m=\u001b[39;49m\u001b[38;5;28;43;01mTrue\u001b[39;49;00m\u001b[43m)\u001b[49m\n\u001b[0;32m     30\u001b[0m \u001b[38;5;28;01mreturn\u001b[39;00m casa_df[colunas_necessarias], fora_df[colunas_necessarias]\n",
      "File \u001b[1;32mc:\\Users\\User\\AppData\\Local\\Programs\\Python\\Python311\\Lib\\site-packages\\pandas\\core\\reshape\\concat.py:395\u001b[0m, in \u001b[0;36mconcat\u001b[1;34m(objs, axis, join, ignore_index, keys, levels, names, verify_integrity, sort, copy)\u001b[0m\n\u001b[0;32m    380\u001b[0m     copy \u001b[38;5;241m=\u001b[39m \u001b[38;5;28;01mFalse\u001b[39;00m\n\u001b[0;32m    382\u001b[0m op \u001b[38;5;241m=\u001b[39m _Concatenator(\n\u001b[0;32m    383\u001b[0m     objs,\n\u001b[0;32m    384\u001b[0m     axis\u001b[38;5;241m=\u001b[39maxis,\n\u001b[1;32m   (...)\u001b[0m\n\u001b[0;32m    392\u001b[0m     sort\u001b[38;5;241m=\u001b[39msort,\n\u001b[0;32m    393\u001b[0m )\n\u001b[1;32m--> 395\u001b[0m \u001b[38;5;28;01mreturn\u001b[39;00m \u001b[43mop\u001b[49m\u001b[38;5;241;43m.\u001b[39;49m\u001b[43mget_result\u001b[49m\u001b[43m(\u001b[49m\u001b[43m)\u001b[49m\n",
      "File \u001b[1;32mc:\\Users\\User\\AppData\\Local\\Programs\\Python\\Python311\\Lib\\site-packages\\pandas\\core\\reshape\\concat.py:680\u001b[0m, in \u001b[0;36m_Concatenator.get_result\u001b[1;34m(self)\u001b[0m\n\u001b[0;32m    678\u001b[0m         obj_labels \u001b[38;5;241m=\u001b[39m obj\u001b[38;5;241m.\u001b[39maxes[\u001b[38;5;241m1\u001b[39m \u001b[38;5;241m-\u001b[39m ax]\n\u001b[0;32m    679\u001b[0m         \u001b[38;5;28;01mif\u001b[39;00m \u001b[38;5;129;01mnot\u001b[39;00m new_labels\u001b[38;5;241m.\u001b[39mequals(obj_labels):\n\u001b[1;32m--> 680\u001b[0m             indexers[ax] \u001b[38;5;241m=\u001b[39m \u001b[43mobj_labels\u001b[49m\u001b[38;5;241;43m.\u001b[39;49m\u001b[43mget_indexer\u001b[49m\u001b[43m(\u001b[49m\u001b[43mnew_labels\u001b[49m\u001b[43m)\u001b[49m\n\u001b[0;32m    682\u001b[0m     mgrs_indexers\u001b[38;5;241m.\u001b[39mappend((obj\u001b[38;5;241m.\u001b[39m_mgr, indexers))\n\u001b[0;32m    684\u001b[0m new_data \u001b[38;5;241m=\u001b[39m concatenate_managers(\n\u001b[0;32m    685\u001b[0m     mgrs_indexers, \u001b[38;5;28mself\u001b[39m\u001b[38;5;241m.\u001b[39mnew_axes, concat_axis\u001b[38;5;241m=\u001b[39m\u001b[38;5;28mself\u001b[39m\u001b[38;5;241m.\u001b[39mbm_axis, copy\u001b[38;5;241m=\u001b[39m\u001b[38;5;28mself\u001b[39m\u001b[38;5;241m.\u001b[39mcopy\n\u001b[0;32m    686\u001b[0m )\n",
      "File \u001b[1;32mc:\\Users\\User\\AppData\\Local\\Programs\\Python\\Python311\\Lib\\site-packages\\pandas\\core\\indexes\\base.py:3885\u001b[0m, in \u001b[0;36mIndex.get_indexer\u001b[1;34m(self, target, method, limit, tolerance)\u001b[0m\n\u001b[0;32m   3882\u001b[0m \u001b[38;5;28mself\u001b[39m\u001b[38;5;241m.\u001b[39m_check_indexing_method(method, limit, tolerance)\n\u001b[0;32m   3884\u001b[0m \u001b[38;5;28;01mif\u001b[39;00m \u001b[38;5;129;01mnot\u001b[39;00m \u001b[38;5;28mself\u001b[39m\u001b[38;5;241m.\u001b[39m_index_as_unique:\n\u001b[1;32m-> 3885\u001b[0m     \u001b[38;5;28;01mraise\u001b[39;00m InvalidIndexError(\u001b[38;5;28mself\u001b[39m\u001b[38;5;241m.\u001b[39m_requires_unique_msg)\n\u001b[0;32m   3887\u001b[0m \u001b[38;5;28;01mif\u001b[39;00m \u001b[38;5;28mlen\u001b[39m(target) \u001b[38;5;241m==\u001b[39m \u001b[38;5;241m0\u001b[39m:\n\u001b[0;32m   3888\u001b[0m     \u001b[38;5;28;01mreturn\u001b[39;00m np\u001b[38;5;241m.\u001b[39marray([], dtype\u001b[38;5;241m=\u001b[39mnp\u001b[38;5;241m.\u001b[39mintp)\n",
      "\u001b[1;31mInvalidIndexError\u001b[0m: Reindexing only valid with uniquely valued Index objects"
     ]
    }
   ],
   "source": [
    "resultados(time_casa, \"GOLS\")"
   ]
  },
  {
   "cell_type": "markdown",
   "id": "b748fc47",
   "metadata": {},
   "source": [
    "### Time Fora"
   ]
  },
  {
   "cell_type": "code",
   "execution_count": null,
   "id": "d6ea5ac9",
   "metadata": {},
   "outputs": [
    {
     "data": {
      "text/html": [
       "<div>\n",
       "<style scoped>\n",
       "    .dataframe tbody tr th:only-of-type {\n",
       "        vertical-align: middle;\n",
       "    }\n",
       "\n",
       "    .dataframe tbody tr th {\n",
       "        vertical-align: top;\n",
       "    }\n",
       "\n",
       "    .dataframe thead th {\n",
       "        text-align: right;\n",
       "    }\n",
       "</style>\n",
       "<table border=\"1\" class=\"dataframe\">\n",
       "  <thead>\n",
       "    <tr style=\"text-align: right;\">\n",
       "      <th></th>\n",
       "      <th>TIME CASA</th>\n",
       "      <th>TIME FORA</th>\n",
       "      <th>GOLS CASA</th>\n",
       "      <th>GOLS FORA</th>\n",
       "      <th>CAMPEONATO</th>\n",
       "      <th>DATA</th>\n",
       "    </tr>\n",
       "  </thead>\n",
       "  <tbody>\n",
       "    <tr>\n",
       "      <th>0</th>\n",
       "      <td>Arsenal</td>\n",
       "      <td>Fulham</td>\n",
       "      <td>2</td>\n",
       "      <td>1</td>\n",
       "      <td>2024-25 English Premier League</td>\n",
       "      <td>01/04/2025</td>\n",
       "    </tr>\n",
       "  </tbody>\n",
       "</table>\n",
       "</div>"
      ],
      "text/plain": [
       "  TIME CASA TIME FORA GOLS CASA GOLS FORA                      CAMPEONATO  \\\n",
       "0   Arsenal    Fulham         2         1  2024-25 English Premier League   \n",
       "\n",
       "         DATA  \n",
       "0  01/04/2025  "
      ]
     },
     "metadata": {},
     "output_type": "display_data"
    },
    {
     "name": "stdout",
     "output_type": "stream",
     "text": [
      "Nenhum dado encontrado para Arsenal como time fora.\n",
      "===========- DADOS GOLS Arsenal -===========\n",
      "Média GOLS jogando em casa: 2.00\n",
      "Média GOLS jogando fora: 0.00\n",
      "Média GOLS Geral ( casa e fora ): 2.00\n"
     ]
    }
   ],
   "source": [
    "resultados(time_fora, \"GOLS\")"
   ]
  }
 ],
 "metadata": {
  "kernelspec": {
   "display_name": "Python 3",
   "language": "python",
   "name": "python3"
  },
  "language_info": {
   "codemirror_mode": {
    "name": "ipython",
    "version": 3
   },
   "file_extension": ".py",
   "mimetype": "text/x-python",
   "name": "python",
   "nbconvert_exporter": "python",
   "pygments_lexer": "ipython3",
   "version": "3.11.5"
  }
 },
 "nbformat": 4,
 "nbformat_minor": 5
}
